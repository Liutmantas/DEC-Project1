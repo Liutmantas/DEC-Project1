{
 "cells": [
  {
   "cell_type": "code",
   "execution_count": 26,
   "metadata": {},
   "outputs": [],
   "source": [
    "import requests\n",
    "import pandas as pd \n",
    "from secrets_config import api_key  # https://developer.domain.com.au/"
   ]
  },
  {
   "cell_type": "code",
   "execution_count": 44,
   "metadata": {},
   "outputs": [
    {
     "name": "stdout",
     "output_type": "stream",
     "text": [
      "200\n",
      "https://api.domain.com.au/v1/salesResults/Sydney/listings\n"
     ]
    }
   ],
   "source": [
    "# domain group api usage docs:\n",
    "\n",
    "# extracting listing summaries for the last sales RESULT (Properties&Locations/ Listings)\n",
    "\n",
    "# read list of cities\n",
    "df_cities = pd.read_csv(\"data/australian_cities.csv\")\n",
    "df_cities.head()\n",
    "\n",
    "#listings_data = [] \n",
    "for city_name in df_cities[\"city_name\"]:\n",
    "    city = {\n",
    "       \"cities\": city_name\n",
    "    } \n",
    "    headers = {\n",
    "        \"X-API-Key\": api_key,\n",
    "    }\n",
    "\n",
    "base_url = f\"https://api.domain.com.au/v1/salesResults/Sydney/listings\"\n",
    "\n",
    "response = requests.get(base_url, params=None, headers=headers)\n",
    "print(response.status_code)\n",
    "response_data = response.json()\n",
    "print(base_url)"
   ]
  },
  {
   "cell_type": "code",
   "execution_count": 36,
   "metadata": {},
   "outputs": [
    {
     "name": "stdout",
     "output_type": "stream",
     "text": [
      "{'title': 'Internal Server Error', 'detail': 'An error has occurred while processing this request.'}\n"
     ]
    }
   ],
   "source": [
    "# check the response \n",
    "print(response_data)"
   ]
  },
  {
   "cell_type": "code",
   "execution_count": null,
   "metadata": {},
   "outputs": [],
   "source": [
    "# showing the data \n",
    "\n",
    "df_listings = pd.json_normalize(data=response_data)\n",
    "df_listings.head()"
   ]
  },
  {
   "cell_type": "code",
   "execution_count": null,
   "metadata": {},
   "outputs": [],
   "source": [
    "# listing all columns \n",
    "df_listings.columns"
   ]
  },
  {
   "cell_type": "code",
   "execution_count": null,
   "metadata": {},
   "outputs": [],
   "source": [
    "# selecting only necessary columns \n",
    "\n",
    "df_selected = df_listings[[\"id\", \"result\", \"suburb\"]]\n",
    "df_selected"
   ]
  }
 ],
 "metadata": {
  "kernelspec": {
   "display_name": "Python 3.9.13 ('bootcamp')",
   "language": "python",
   "name": "python3"
  },
  "language_info": {
   "codemirror_mode": {
    "name": "ipython",
    "version": 3
   },
   "file_extension": ".py",
   "mimetype": "text/x-python",
   "name": "python",
   "nbconvert_exporter": "python",
   "pygments_lexer": "ipython3",
   "version": "3.9.13"
  },
  "orig_nbformat": 4,
  "vscode": {
   "interpreter": {
    "hash": "b492eceb3243b0aa0f052e445a609b8177af994f3e6cace9f151452a540ff8cf"
   }
  }
 },
 "nbformat": 4,
 "nbformat_minor": 2
}
