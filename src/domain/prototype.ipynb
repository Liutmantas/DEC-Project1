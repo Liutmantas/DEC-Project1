{
 "cells": [
  {
   "cell_type": "code",
   "execution_count": 1,
   "metadata": {},
   "outputs": [],
   "source": [
    "import requests\n",
    "import pandas as pd\n",
    "import yaml\n",
    "import os\n",
    "import datetime as dt \n",
    "\n",
    "from secrets_config import api_key"
   ]
  },
  {
   "cell_type": "code",
   "execution_count": 2,
   "metadata": {},
   "outputs": [],
   "source": [
    "with open(\"config.yaml\") as stream:\n",
    "    config = yaml.safe_load(stream)\n",
    "\n",
    "target_cities = config['extract']['target_cities']\n",
    "salesResults_url = config['extract']['api_urls']['salesResults']\n",
    "salesResults_listings_url = config['extract']['api_urls']['salesResults_listings']"
   ]
  },
  {
   "cell_type": "code",
   "execution_count": 3,
   "metadata": {},
   "outputs": [
    {
     "name": "stdout",
     "output_type": "stream",
     "text": [
      "Status: 200 for https://api.domain.com.au/v1/salesResults/Sydney\n",
      "Status: 200 for https://api.domain.com.au/v1/salesResults/Melbourne\n",
      "Status: 200 for https://api.domain.com.au/v1/salesResults/Adelaide\n"
     ]
    }
   ],
   "source": [
    "params = {\n",
    "    \"api_key\": api_key\n",
    "}\n",
    "\n",
    "for city in target_cities:\n",
    "    response_data = []\n",
    "    url = salesResults_url.replace('{city}', city)\n",
    "\n",
    "    response = requests.get(url, params=params)\n",
    "\n",
    "    if response.json() is not None: \n",
    "        response_data.extend(response.json())\n",
    "        print(f\"Status: {response.status_code} for {url}\")\n",
    "\n",
    "    temp_df = pd.concat([\n",
    "                pd.DataFrame([[city, url, dt.datetime.now().strftime(\"%Y-%m-%dT%H:%M:%S.%fZ\")]], \n",
    "                columns=['City', 'URL', 'Execution time']), \n",
    "                pd.json_normalize(data=response.json())], axis=1)\n",
    "\n",
    "    if 'df_results' in locals():\n",
    "        df_results = pd.concat([df_results, temp_df], ignore_index=True)\n",
    "    else:\n",
    "        df_results = temp_df"
   ]
  },
  {
   "cell_type": "code",
   "execution_count": 4,
   "metadata": {},
   "outputs": [
    {
     "data": {
      "text/html": [
       "<div>\n",
       "<style scoped>\n",
       "    .dataframe tbody tr th:only-of-type {\n",
       "        vertical-align: middle;\n",
       "    }\n",
       "\n",
       "    .dataframe tbody tr th {\n",
       "        vertical-align: top;\n",
       "    }\n",
       "\n",
       "    .dataframe thead th {\n",
       "        text-align: right;\n",
       "    }\n",
       "</style>\n",
       "<table border=\"1\" class=\"dataframe\">\n",
       "  <thead>\n",
       "    <tr style=\"text-align: right;\">\n",
       "      <th></th>\n",
       "      <th>City</th>\n",
       "      <th>URL</th>\n",
       "      <th>Execution time</th>\n",
       "      <th>auctionedDate</th>\n",
       "      <th>lastModifiedDateTime</th>\n",
       "      <th>adjClearanceRate</th>\n",
       "      <th>median</th>\n",
       "      <th>numberAuctioned</th>\n",
       "      <th>numberListedForAuction</th>\n",
       "      <th>numberSold</th>\n",
       "      <th>numberUnreported</th>\n",
       "      <th>numberWithdrawn</th>\n",
       "      <th>totalSales</th>\n",
       "    </tr>\n",
       "  </thead>\n",
       "  <tbody>\n",
       "    <tr>\n",
       "      <th>0</th>\n",
       "      <td>Sydney</td>\n",
       "      <td>https://api.domain.com.au/v1/salesResults/Sydney</td>\n",
       "      <td>2022-09-29T18:36:30.170563Z</td>\n",
       "      <td>2022-09-24</td>\n",
       "      <td>2022-09-29T11:32:12.094Z</td>\n",
       "      <td>0.600677</td>\n",
       "      <td>1435000</td>\n",
       "      <td>591</td>\n",
       "      <td>725</td>\n",
       "      <td>355</td>\n",
       "      <td>11</td>\n",
       "      <td>130</td>\n",
       "      <td>364296588</td>\n",
       "    </tr>\n",
       "    <tr>\n",
       "      <th>1</th>\n",
       "      <td>Melbourne</td>\n",
       "      <td>https://api.domain.com.au/v1/salesResults/Melb...</td>\n",
       "      <td>2022-09-29T18:36:30.741148Z</td>\n",
       "      <td>2022-09-24</td>\n",
       "      <td>2022-09-29T11:32:12.094Z</td>\n",
       "      <td>0.617647</td>\n",
       "      <td>1017500</td>\n",
       "      <td>68</td>\n",
       "      <td>97</td>\n",
       "      <td>42</td>\n",
       "      <td>0</td>\n",
       "      <td>11</td>\n",
       "      <td>30176100</td>\n",
       "    </tr>\n",
       "    <tr>\n",
       "      <th>2</th>\n",
       "      <td>Adelaide</td>\n",
       "      <td>https://api.domain.com.au/v1/salesResults/Adel...</td>\n",
       "      <td>2022-09-29T18:36:31.336804Z</td>\n",
       "      <td>2022-09-24</td>\n",
       "      <td>2022-09-29T11:32:12.094Z</td>\n",
       "      <td>0.731707</td>\n",
       "      <td>771000</td>\n",
       "      <td>41</td>\n",
       "      <td>49</td>\n",
       "      <td>30</td>\n",
       "      <td>2</td>\n",
       "      <td>1</td>\n",
       "      <td>18046000</td>\n",
       "    </tr>\n",
       "  </tbody>\n",
       "</table>\n",
       "</div>"
      ],
      "text/plain": [
       "        City                                                URL  \\\n",
       "0     Sydney   https://api.domain.com.au/v1/salesResults/Sydney   \n",
       "1  Melbourne  https://api.domain.com.au/v1/salesResults/Melb...   \n",
       "2   Adelaide  https://api.domain.com.au/v1/salesResults/Adel...   \n",
       "\n",
       "                Execution time auctionedDate      lastModifiedDateTime  \\\n",
       "0  2022-09-29T18:36:30.170563Z    2022-09-24  2022-09-29T11:32:12.094Z   \n",
       "1  2022-09-29T18:36:30.741148Z    2022-09-24  2022-09-29T11:32:12.094Z   \n",
       "2  2022-09-29T18:36:31.336804Z    2022-09-24  2022-09-29T11:32:12.094Z   \n",
       "\n",
       "   adjClearanceRate   median  numberAuctioned  numberListedForAuction  \\\n",
       "0          0.600677  1435000              591                     725   \n",
       "1          0.617647  1017500               68                      97   \n",
       "2          0.731707   771000               41                      49   \n",
       "\n",
       "   numberSold  numberUnreported  numberWithdrawn  totalSales  \n",
       "0         355                11              130   364296588  \n",
       "1          42                 0               11    30176100  \n",
       "2          30                 2                1    18046000  "
      ]
     },
     "execution_count": 4,
     "metadata": {},
     "output_type": "execute_result"
    }
   ],
   "source": [
    "df_results"
   ]
  },
  {
   "cell_type": "code",
   "execution_count": 35,
   "metadata": {},
   "outputs": [],
   "source": [
    "from sqlalchemy import create_engine, Table, Column, Integer, String, MetaData, Float, JSON # https://www.tutorialspoint.com/sqlalchemy/sqlalchemy_core_creating_table.htm\n",
    "from sqlalchemy.engine import URL\n",
    "from sqlalchemy.dialects import postgresql\n",
    "from secrets_config import db_user, db_password, db_server_name, db_database_name"
   ]
  },
  {
   "cell_type": "code",
   "execution_count": 36,
   "metadata": {},
   "outputs": [],
   "source": [
    "# create connection to database \n",
    "connection_url = URL.create(\n",
    "    drivername = \"postgresql+pg8000\", \n",
    "    username = db_user,\n",
    "    password = db_password,\n",
    "    host = db_server_name, \n",
    "    port = 5432,\n",
    "    database = db_database_name, \n",
    ")\n",
    "\n",
    "engine = create_engine(connection_url)"
   ]
  },
  {
   "cell_type": "code",
   "execution_count": 37,
   "metadata": {},
   "outputs": [],
   "source": [
    "# specify target table schema \n",
    "raw_table = \"raw_sales_result\"\n",
    "\n",
    "meta = MetaData()\n",
    "raw_sales_result = Table(\n",
    "    raw_table, meta, \n",
    "    Column(\"City\", String, primary_key=True),\n",
    "    Column(\"lastModifiedDateTime\", String, primary_key=True),\n",
    "    Column(\"URL\", String),\n",
    "    Column(\"Execution time\", String),\n",
    "    Column(\"auctionedDate\", String),\n",
    "    Column(\"adjClearanceRate\", Float),\n",
    "    Column(\"median\", Integer),\n",
    "    Column(\"numberAuctioned\", Integer),\n",
    "    Column(\"numberListedForAuction\", Integer),\n",
    "    Column(\"numberSold\", Integer),\n",
    "    Column(\"numberUnreported\", Integer),\n",
    "    Column(\"numberWithdrawn\", Integer),\n",
    "    Column(\"totalSales\", Integer)\n",
    ")\n",
    "meta.create_all(engine) # creates table if it does not exist "
   ]
  },
  {
   "cell_type": "code",
   "execution_count": 38,
   "metadata": {},
   "outputs": [],
   "source": [
    "insert_statement = postgresql.insert(raw_sales_result).values(df_results.to_dict(orient='records'))\n",
    "upsert_statement = insert_statement.on_conflict_do_update(\n",
    "    index_elements=['City', 'lastModifiedDateTime'],\n",
    "    set_={c.key: c for c in insert_statement.excluded if c.key not in ['City', 'lastModifiedDateTime']})\n",
    "with engine.connect() as connection: \n",
    "    connection.execute(upsert_statement)"
   ]
  },
  {
   "cell_type": "code",
   "execution_count": 39,
   "metadata": {},
   "outputs": [],
   "source": [
    "import os \n",
    "import logging \n",
    "import jinja2 as j2\n",
    "\n",
    "def build_model(model, engine, models_path=\"models/\")->bool:\n",
    "    \"\"\"\n",
    "    Builds models with a matching file name in the models_path folder. \n",
    "    - `model`: the name of the model (without .sql)\n",
    "    - `models_path`: the path to the models directory containing the sql files. defaults to `models/`\n",
    "    \"\"\"\n",
    "    logging.basicConfig(level=logging.INFO, format=\"[%(levelname)s][%(asctime)s]: %(message)s\")\n",
    "    \n",
    "    if f\"{model}.sql\" in os.listdir(models_path):\n",
    "        logging.info(f\"Building model: {model}\")\n",
    "    \n",
    "        # read sql contents into a variable \n",
    "        with open(f\"models/{model}.sql\") as f: \n",
    "            raw_sql = f.read()\n",
    "\n",
    "        # parse sql using jinja \n",
    "        parsed_sql = j2.Template(raw_sql).render(target_table = model, engine=engine)\n",
    "\n",
    "        # execute parsed sql \n",
    "        engine.execute(parsed_sql)\n",
    "        logging.info(f\"Successfully built model: {model}\")\n",
    "        return True \n",
    "    else: \n",
    "        logging.error(f\"Could not find model: {model}\")"
   ]
  },
  {
   "cell_type": "code",
   "execution_count": 40,
   "metadata": {},
   "outputs": [
    {
     "name": "stderr",
     "output_type": "stream",
     "text": [
      "[INFO][2022-09-29 19:52:48,806]: Building model: staging_sales_results\n",
      "[INFO][2022-09-29 19:52:48,819]: Successfully built model: staging_sales_results\n"
     ]
    },
    {
     "data": {
      "text/plain": [
       "True"
      ]
     },
     "execution_count": 40,
     "metadata": {},
     "output_type": "execute_result"
    }
   ],
   "source": [
    "build_model(model=\"staging_sales_results\", engine=engine, models_path=\"models/\")"
   ]
  },
  {
   "cell_type": "code",
   "execution_count": 42,
   "metadata": {},
   "outputs": [
    {
     "name": "stderr",
     "output_type": "stream",
     "text": [
      "[INFO][2022-09-29 19:58:48,844]: Building model: serving_sales_results\n",
      "[INFO][2022-09-29 19:58:48,852]: Successfully built model: serving_sales_results\n"
     ]
    },
    {
     "data": {
      "text/plain": [
       "True"
      ]
     },
     "execution_count": 42,
     "metadata": {},
     "output_type": "execute_result"
    }
   ],
   "source": [
    "build_model(model=\"serving_sales_results\", engine=engine, models_path=\"models/\")"
   ]
  },
  {
   "cell_type": "code",
   "execution_count": null,
   "metadata": {},
   "outputs": [],
   "source": [
    "build_model(model=\"serving_sales_averages\", engine=engine, models_path=\"models/\")"
   ]
  }
 ],
 "metadata": {
  "kernelspec": {
   "display_name": "Python 3.9.13 ('bootcamp')",
   "language": "python",
   "name": "python3"
  },
  "language_info": {
   "codemirror_mode": {
    "name": "ipython",
    "version": 3
   },
   "file_extension": ".py",
   "mimetype": "text/x-python",
   "name": "python",
   "nbconvert_exporter": "python",
   "pygments_lexer": "ipython3",
   "version": "3.9.13"
  },
  "orig_nbformat": 4,
  "vscode": {
   "interpreter": {
    "hash": "5f407b1b582e764af1de92d08149f3039a2cd11cf3017e26c4cc8e85f5896eb3"
   }
  }
 },
 "nbformat": 4,
 "nbformat_minor": 2
}
