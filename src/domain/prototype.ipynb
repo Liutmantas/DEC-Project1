{
 "cells": [
  {
   "cell_type": "code",
   "execution_count": 43,
   "metadata": {},
   "outputs": [],
   "source": [
    "import requests\n",
    "import pandas as pd\n",
    "import yaml\n",
    "import os\n",
    "\n",
    "from secrets_config import api_key\n"
   ]
  },
  {
   "cell_type": "code",
   "execution_count": 45,
   "metadata": {},
   "outputs": [
    {
     "ename": "KeyError",
     "evalue": "'salesResults_api_urls'",
     "output_type": "error",
     "traceback": [
      "\u001b[0;31m---------------------------------------------------------------------------\u001b[0m",
      "\u001b[0;31mKeyError\u001b[0m                                  Traceback (most recent call last)",
      "\u001b[1;32m/Users/tanhtra/code-dec/DEC-Project1/src/domain/prototype.ipynb Cell 2\u001b[0m in \u001b[0;36m<cell line: 5>\u001b[0;34m()\u001b[0m\n\u001b[1;32m      <a href='vscode-notebook-cell:/Users/tanhtra/code-dec/DEC-Project1/src/domain/prototype.ipynb#W1sZmlsZQ%3D%3D?line=1'>2</a>\u001b[0m     config \u001b[39m=\u001b[39m yaml\u001b[39m.\u001b[39msafe_load(stream)\n\u001b[1;32m      <a href='vscode-notebook-cell:/Users/tanhtra/code-dec/DEC-Project1/src/domain/prototype.ipynb#W1sZmlsZQ%3D%3D?line=3'>4</a>\u001b[0m target_city \u001b[39m=\u001b[39m config[\u001b[39m'\u001b[39m\u001b[39mextract\u001b[39m\u001b[39m'\u001b[39m][\u001b[39m'\u001b[39m\u001b[39mtarget_cities\u001b[39m\u001b[39m'\u001b[39m]\n\u001b[0;32m----> <a href='vscode-notebook-cell:/Users/tanhtra/code-dec/DEC-Project1/src/domain/prototype.ipynb#W1sZmlsZQ%3D%3D?line=4'>5</a>\u001b[0m salesResults_urls \u001b[39m=\u001b[39m config[\u001b[39m'\u001b[39;49m\u001b[39mextract\u001b[39;49m\u001b[39m'\u001b[39;49m][\u001b[39m'\u001b[39;49m\u001b[39msalesResults_api_urls\u001b[39;49m\u001b[39m'\u001b[39;49m]\n\u001b[1;32m      <a href='vscode-notebook-cell:/Users/tanhtra/code-dec/DEC-Project1/src/domain/prototype.ipynb#W1sZmlsZQ%3D%3D?line=5'>6</a>\u001b[0m salesResults_listings_urls \u001b[39m=\u001b[39m config[\u001b[39m'\u001b[39m\u001b[39mextract\u001b[39m\u001b[39m'\u001b[39m][\u001b[39m'\u001b[39m\u001b[39mlisting_api_urls\u001b[39m\u001b[39m'\u001b[39m]\n",
      "\u001b[0;31mKeyError\u001b[0m: 'salesResults_api_urls'"
     ]
    }
   ],
   "source": [
    "with open(\"config.yaml\") as stream:\n",
    "    config = yaml.safe_load(stream)\n",
    "\n",
    "target_city = config['extract']['target_cities']\n",
    "salesResults_urls = config['extract']['api_urls']['salesResults']\n",
    "salesResults_listings_urls = config['extract']['api_urls']['salesResults_listings']"
   ]
  },
  {
   "cell_type": "code",
   "execution_count": null,
   "metadata": {},
   "outputs": [],
   "source": [
    "target_city"
   ]
  },
  {
   "cell_type": "code",
   "execution_count": 35,
   "metadata": {},
   "outputs": [
    {
     "name": "stdout",
     "output_type": "stream",
     "text": [
      "Status: 200 for https://api.domain.com.au/v1/salesResults/Sydney\n",
      "Status: 200 for https://api.domain.com.au/v1/salesResults/Melbourne\n"
     ]
    }
   ],
   "source": [
    "params = {\n",
    "    \"api_key\": api_key\n",
    "}\n",
    "\n",
    "for result_url in salesResults_urls:\n",
    "\n",
    "    response_data = []\n",
    "    response = requests.get(result_url, params=params)\n",
    "\n",
    "    if response.json() is not None: \n",
    "        response_data.extend(response.json())\n",
    "        print(f\"Status: {response.status_code} for {result_url}\")\n",
    "\n",
    "    df_listings = pd.json_normalize(data=response_data)\n"
   ]
  },
  {
   "cell_type": "code",
   "execution_count": 42,
   "metadata": {},
   "outputs": [
    {
     "data": {
      "text/html": [
       "<div>\n",
       "<style scoped>\n",
       "    .dataframe tbody tr th:only-of-type {\n",
       "        vertical-align: middle;\n",
       "    }\n",
       "\n",
       "    .dataframe tbody tr th {\n",
       "        vertical-align: top;\n",
       "    }\n",
       "\n",
       "    .dataframe thead th {\n",
       "        text-align: right;\n",
       "    }\n",
       "</style>\n",
       "<table border=\"1\" class=\"dataframe\">\n",
       "  <thead>\n",
       "    <tr style=\"text-align: right;\">\n",
       "      <th></th>\n",
       "    </tr>\n",
       "  </thead>\n",
       "  <tbody>\n",
       "    <tr>\n",
       "      <th>0</th>\n",
       "    </tr>\n",
       "    <tr>\n",
       "      <th>1</th>\n",
       "    </tr>\n",
       "    <tr>\n",
       "      <th>2</th>\n",
       "    </tr>\n",
       "    <tr>\n",
       "      <th>3</th>\n",
       "    </tr>\n",
       "    <tr>\n",
       "      <th>4</th>\n",
       "    </tr>\n",
       "    <tr>\n",
       "      <th>5</th>\n",
       "    </tr>\n",
       "    <tr>\n",
       "      <th>6</th>\n",
       "    </tr>\n",
       "    <tr>\n",
       "      <th>7</th>\n",
       "    </tr>\n",
       "    <tr>\n",
       "      <th>8</th>\n",
       "    </tr>\n",
       "    <tr>\n",
       "      <th>9</th>\n",
       "    </tr>\n",
       "  </tbody>\n",
       "</table>\n",
       "</div>"
      ],
      "text/plain": [
       "Empty DataFrame\n",
       "Columns: []\n",
       "Index: [0, 1, 2, 3, 4, 5, 6, 7, 8, 9]"
      ]
     },
     "execution_count": 42,
     "metadata": {},
     "output_type": "execute_result"
    }
   ],
   "source": [
    "df_listings"
   ]
  },
  {
   "cell_type": "code",
   "execution_count": 37,
   "metadata": {},
   "outputs": [
    {
     "data": {
      "text/plain": [
       "{'auctionedDate': '2022-09-24',\n",
       " 'lastModifiedDateTime': '2022-09-28T02:25:35.209Z',\n",
       " 'adjClearanceRate': 0.6060606060606061,\n",
       " 'median': 1067500,\n",
       " 'numberAuctioned': 66,\n",
       " 'numberListedForAuction': 97,\n",
       " 'numberSold': 40,\n",
       " 'numberUnreported': 0,\n",
       " 'numberWithdrawn': 11,\n",
       " 'totalSales': 28535100}"
      ]
     },
     "execution_count": 37,
     "metadata": {},
     "output_type": "execute_result"
    }
   ],
   "source": [
    "response.json()"
   ]
  },
  {
   "cell_type": "code",
   "execution_count": 26,
   "metadata": {},
   "outputs": [
    {
     "data": {
      "text/html": [
       "<div>\n",
       "<style scoped>\n",
       "    .dataframe tbody tr th:only-of-type {\n",
       "        vertical-align: middle;\n",
       "    }\n",
       "\n",
       "    .dataframe tbody tr th {\n",
       "        vertical-align: top;\n",
       "    }\n",
       "\n",
       "    .dataframe thead th {\n",
       "        text-align: right;\n",
       "    }\n",
       "</style>\n",
       "<table border=\"1\" class=\"dataframe\">\n",
       "  <thead>\n",
       "    <tr style=\"text-align: right;\">\n",
       "      <th></th>\n",
       "    </tr>\n",
       "  </thead>\n",
       "  <tbody>\n",
       "    <tr>\n",
       "      <th>0</th>\n",
       "    </tr>\n",
       "    <tr>\n",
       "      <th>1</th>\n",
       "    </tr>\n",
       "    <tr>\n",
       "      <th>2</th>\n",
       "    </tr>\n",
       "    <tr>\n",
       "      <th>3</th>\n",
       "    </tr>\n",
       "    <tr>\n",
       "      <th>4</th>\n",
       "    </tr>\n",
       "  </tbody>\n",
       "</table>\n",
       "</div>"
      ],
      "text/plain": [
       "Empty DataFrame\n",
       "Columns: []\n",
       "Index: [0, 1, 2, 3, 4]"
      ]
     },
     "execution_count": 26,
     "metadata": {},
     "output_type": "execute_result"
    }
   ],
   "source": [
    "df_listings = pd.json_normalize(data=response_data)\n",
    "df_listings.head()\n"
   ]
  },
  {
   "cell_type": "code",
   "execution_count": 28,
   "metadata": {},
   "outputs": [
    {
     "name": "stdout",
     "output_type": "stream",
     "text": [
      "200\n"
     ]
    }
   ],
   "source": [
    "#API_KEY = os.environ.get(f\"{api_key}\")\n",
    "\n",
    "base_url = 'https://api.domain.com.au/v1/salesResults/Sydney/listings'\n",
    "\n",
    "response_data = []\n",
    "\n",
    "params = {\n",
    "    \"api_key\": api_key\n",
    "}\n",
    "response = requests.get(base_url, params=params)\n",
    "if response.json() is not None: \n",
    "    response_data.extend(response.json())\n",
    "    print(response.status_code)"
   ]
  },
  {
   "cell_type": "code",
   "execution_count": 29,
   "metadata": {},
   "outputs": [
    {
     "data": {
      "text/html": [
       "<div>\n",
       "<style scoped>\n",
       "    .dataframe tbody tr th:only-of-type {\n",
       "        vertical-align: middle;\n",
       "    }\n",
       "\n",
       "    .dataframe tbody tr th {\n",
       "        vertical-align: top;\n",
       "    }\n",
       "\n",
       "    .dataframe thead th {\n",
       "        text-align: right;\n",
       "    }\n",
       "</style>\n",
       "<table border=\"1\" class=\"dataframe\">\n",
       "  <thead>\n",
       "    <tr style=\"text-align: right;\">\n",
       "      <th></th>\n",
       "      <th>agencyId</th>\n",
       "      <th>id</th>\n",
       "      <th>propertyDetailsUrl</th>\n",
       "      <th>agencyName</th>\n",
       "      <th>agencyProfilePageUrl</th>\n",
       "      <th>agent</th>\n",
       "      <th>bathrooms</th>\n",
       "      <th>bedrooms</th>\n",
       "      <th>carspaces</th>\n",
       "      <th>postcode</th>\n",
       "      <th>...</th>\n",
       "      <th>result</th>\n",
       "      <th>state</th>\n",
       "      <th>streetName</th>\n",
       "      <th>streetNumber</th>\n",
       "      <th>streetType</th>\n",
       "      <th>suburb</th>\n",
       "      <th>geoLocation.latitude</th>\n",
       "      <th>geoLocation.longitude</th>\n",
       "      <th>price</th>\n",
       "      <th>unitNumber</th>\n",
       "    </tr>\n",
       "  </thead>\n",
       "  <tbody>\n",
       "    <tr>\n",
       "      <th>0</th>\n",
       "      <td>33021</td>\n",
       "      <td>2018031516</td>\n",
       "      <td>https://www.domain.com.au/12-lanceley-place-ab...</td>\n",
       "      <td>Blaze Real Estate</td>\n",
       "      <td>https://www.domain.com.au/real-estate-agencies...</td>\n",
       "      <td>Blaze Real Estate - Wetherill Park</td>\n",
       "      <td>3</td>\n",
       "      <td>5</td>\n",
       "      <td>1</td>\n",
       "      <td>2176</td>\n",
       "      <td>...</td>\n",
       "      <td>AUSD</td>\n",
       "      <td>Nsw</td>\n",
       "      <td>Lanceley</td>\n",
       "      <td>12</td>\n",
       "      <td>Pl</td>\n",
       "      <td>Abbotsbury</td>\n",
       "      <td>-33.867078</td>\n",
       "      <td>150.867887</td>\n",
       "      <td>NaN</td>\n",
       "      <td>NaN</td>\n",
       "    </tr>\n",
       "    <tr>\n",
       "      <th>1</th>\n",
       "      <td>3812</td>\n",
       "      <td>2018038475</td>\n",
       "      <td>https://www.domain.com.au/5-glen-ormond-avenue...</td>\n",
       "      <td>Time Realty</td>\n",
       "      <td>https://www.domain.com.au/real-estate-agencies...</td>\n",
       "      <td>Time Realty</td>\n",
       "      <td>1</td>\n",
       "      <td>2</td>\n",
       "      <td>1</td>\n",
       "      <td>2046</td>\n",
       "      <td>...</td>\n",
       "      <td>AUSD</td>\n",
       "      <td>Nsw</td>\n",
       "      <td>Glen Ormond</td>\n",
       "      <td>5</td>\n",
       "      <td>Av</td>\n",
       "      <td>Abbotsford</td>\n",
       "      <td>-33.853453</td>\n",
       "      <td>151.128919</td>\n",
       "      <td>2540000.0</td>\n",
       "      <td>NaN</td>\n",
       "    </tr>\n",
       "    <tr>\n",
       "      <th>2</th>\n",
       "      <td>31998</td>\n",
       "      <td>2018008641</td>\n",
       "      <td>https://www.domain.com.au/10-tyler-crescent-ab...</td>\n",
       "      <td>DibChidiac</td>\n",
       "      <td>https://www.domain.com.au/real-estate-agencies...</td>\n",
       "      <td>DIB CHIDIAC</td>\n",
       "      <td>2</td>\n",
       "      <td>4</td>\n",
       "      <td>2</td>\n",
       "      <td>2046</td>\n",
       "      <td>...</td>\n",
       "      <td>AUSP</td>\n",
       "      <td>Nsw</td>\n",
       "      <td>Tyler</td>\n",
       "      <td>10</td>\n",
       "      <td>Cr</td>\n",
       "      <td>Abbotsford</td>\n",
       "      <td>-33.853034</td>\n",
       "      <td>151.135108</td>\n",
       "      <td>NaN</td>\n",
       "      <td>NaN</td>\n",
       "    </tr>\n",
       "    <tr>\n",
       "      <th>3</th>\n",
       "      <td>8692</td>\n",
       "      <td>2018047582</td>\n",
       "      <td>https://www.domain.com.au/7-kew-way-airds-nsw-...</td>\n",
       "      <td>Ray White Macarthur Group</td>\n",
       "      <td>https://www.domain.com.au/real-estate-agencies...</td>\n",
       "      <td>RW Macarthur Group</td>\n",
       "      <td>1</td>\n",
       "      <td>3</td>\n",
       "      <td>2</td>\n",
       "      <td>2560</td>\n",
       "      <td>...</td>\n",
       "      <td>AUSD</td>\n",
       "      <td>Nsw</td>\n",
       "      <td>Kew</td>\n",
       "      <td>7</td>\n",
       "      <td>Wy</td>\n",
       "      <td>Airds</td>\n",
       "      <td>-34.092862</td>\n",
       "      <td>150.821427</td>\n",
       "      <td>600000.0</td>\n",
       "      <td>NaN</td>\n",
       "    </tr>\n",
       "    <tr>\n",
       "      <th>4</th>\n",
       "      <td>8692</td>\n",
       "      <td>2018047583</td>\n",
       "      <td>https://www.domain.com.au/3-ponds-way-airds-ns...</td>\n",
       "      <td>Ray White Macarthur Group</td>\n",
       "      <td>https://www.domain.com.au/real-estate-agencies...</td>\n",
       "      <td>RW Macarthur Group</td>\n",
       "      <td>1</td>\n",
       "      <td>3</td>\n",
       "      <td>1</td>\n",
       "      <td>2560</td>\n",
       "      <td>...</td>\n",
       "      <td>AUSD</td>\n",
       "      <td>Nsw</td>\n",
       "      <td>Ponds</td>\n",
       "      <td>3</td>\n",
       "      <td>Wy</td>\n",
       "      <td>Airds</td>\n",
       "      <td>-34.093184</td>\n",
       "      <td>150.822937</td>\n",
       "      <td>650000.0</td>\n",
       "      <td>NaN</td>\n",
       "    </tr>\n",
       "  </tbody>\n",
       "</table>\n",
       "<p>5 rows × 21 columns</p>\n",
       "</div>"
      ],
      "text/plain": [
       "   agencyId          id                                 propertyDetailsUrl  \\\n",
       "0     33021  2018031516  https://www.domain.com.au/12-lanceley-place-ab...   \n",
       "1      3812  2018038475  https://www.domain.com.au/5-glen-ormond-avenue...   \n",
       "2     31998  2018008641  https://www.domain.com.au/10-tyler-crescent-ab...   \n",
       "3      8692  2018047582  https://www.domain.com.au/7-kew-way-airds-nsw-...   \n",
       "4      8692  2018047583  https://www.domain.com.au/3-ponds-way-airds-ns...   \n",
       "\n",
       "                  agencyName  \\\n",
       "0          Blaze Real Estate   \n",
       "1                Time Realty   \n",
       "2                 DibChidiac   \n",
       "3  Ray White Macarthur Group   \n",
       "4  Ray White Macarthur Group   \n",
       "\n",
       "                                agencyProfilePageUrl  \\\n",
       "0  https://www.domain.com.au/real-estate-agencies...   \n",
       "1  https://www.domain.com.au/real-estate-agencies...   \n",
       "2  https://www.domain.com.au/real-estate-agencies...   \n",
       "3  https://www.domain.com.au/real-estate-agencies...   \n",
       "4  https://www.domain.com.au/real-estate-agencies...   \n",
       "\n",
       "                                agent  bathrooms  bedrooms  carspaces  \\\n",
       "0  Blaze Real Estate - Wetherill Park          3         5          1   \n",
       "1                         Time Realty          1         2          1   \n",
       "2                         DIB CHIDIAC          2         4          2   \n",
       "3                  RW Macarthur Group          1         3          2   \n",
       "4                  RW Macarthur Group          1         3          1   \n",
       "\n",
       "  postcode  ... result state   streetName streetNumber streetType      suburb  \\\n",
       "0     2176  ...   AUSD   Nsw     Lanceley           12         Pl  Abbotsbury   \n",
       "1     2046  ...   AUSD   Nsw  Glen Ormond            5         Av  Abbotsford   \n",
       "2     2046  ...   AUSP   Nsw        Tyler           10         Cr  Abbotsford   \n",
       "3     2560  ...   AUSD   Nsw          Kew            7         Wy       Airds   \n",
       "4     2560  ...   AUSD   Nsw        Ponds            3         Wy       Airds   \n",
       "\n",
       "  geoLocation.latitude  geoLocation.longitude      price  unitNumber  \n",
       "0           -33.867078             150.867887        NaN         NaN  \n",
       "1           -33.853453             151.128919  2540000.0         NaN  \n",
       "2           -33.853034             151.135108        NaN         NaN  \n",
       "3           -34.092862             150.821427   600000.0         NaN  \n",
       "4           -34.093184             150.822937   650000.0         NaN  \n",
       "\n",
       "[5 rows x 21 columns]"
      ]
     },
     "execution_count": 29,
     "metadata": {},
     "output_type": "execute_result"
    }
   ],
   "source": [
    "df_listings = pd.json_normalize(data=response_data)\n",
    "df_listings.head()"
   ]
  },
  {
   "cell_type": "code",
   "execution_count": 18,
   "metadata": {},
   "outputs": [
    {
     "data": {
      "text/plain": [
       "Index(['agencyId', 'id', 'propertyDetailsUrl', 'agencyName',\n",
       "       'agencyProfilePageUrl', 'agent', 'bathrooms', 'bedrooms', 'carspaces',\n",
       "       'postcode', 'propertyType', 'result', 'state', 'streetName',\n",
       "       'streetNumber', 'streetType', 'suburb', 'geoLocation.latitude',\n",
       "       'geoLocation.longitude', 'price', 'unitNumber'],\n",
       "      dtype='object')"
      ]
     },
     "execution_count": 18,
     "metadata": {},
     "output_type": "execute_result"
    }
   ],
   "source": [
    "df_listings.columns"
   ]
  },
  {
   "cell_type": "code",
   "execution_count": 19,
   "metadata": {},
   "outputs": [
    {
     "data": {
      "text/plain": [
       "agencyId                   int64\n",
       "id                         int64\n",
       "propertyDetailsUrl        object\n",
       "agencyName                object\n",
       "agencyProfilePageUrl      object\n",
       "agent                     object\n",
       "bathrooms                  int64\n",
       "bedrooms                   int64\n",
       "carspaces                  int64\n",
       "postcode                  object\n",
       "propertyType              object\n",
       "result                    object\n",
       "state                     object\n",
       "streetName                object\n",
       "streetNumber              object\n",
       "streetType                object\n",
       "suburb                    object\n",
       "geoLocation.latitude     float64\n",
       "geoLocation.longitude    float64\n",
       "price                    float64\n",
       "unitNumber                object\n",
       "dtype: object"
      ]
     },
     "execution_count": 19,
     "metadata": {},
     "output_type": "execute_result"
    }
   ],
   "source": [
    "df_listings.dtypes"
   ]
  }
 ],
 "metadata": {
  "kernelspec": {
   "display_name": "Python 3.9.13 ('bootcamp')",
   "language": "python",
   "name": "python3"
  },
  "language_info": {
   "codemirror_mode": {
    "name": "ipython",
    "version": 3
   },
   "file_extension": ".py",
   "mimetype": "text/x-python",
   "name": "python",
   "nbconvert_exporter": "python",
   "pygments_lexer": "ipython3",
   "version": "3.9.13"
  },
  "orig_nbformat": 4,
  "vscode": {
   "interpreter": {
    "hash": "5f407b1b582e764af1de92d08149f3039a2cd11cf3017e26c4cc8e85f5896eb3"
   }
  }
 },
 "nbformat": 4,
 "nbformat_minor": 2
}
